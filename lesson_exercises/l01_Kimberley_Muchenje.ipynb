{
  "cells": [
    {
      "cell_type": "markdown",
      "metadata": {
        "id": "PkVnElArsJZ0"
      },
      "source": [
        "# E1. To be completed after lesson 6\n",
        "\n",
        "<hr>"
      ]
    },
    {
      "cell_type": "markdown",
      "metadata": {
        "id": "vSII629tsJZ6"
      },
      "source": [
        "## Exercise 1.1\n",
        "\n",
        "Describe in words the difference between a mutable and immutable object.\n",
        "\n",
        "Immutable objects are final objects that cannot be modified after their creation e.g numbers, strings, and tuples but mutable objects can be modified after creation e.g lists, sets and dictionaries\n",
        "\n",
        "<br />"
      ]
    },
    {
      "cell_type": "markdown",
      "metadata": {
        "id": "BQXE2l5LsJZ7"
      },
      "source": [
        "## Exercise 1.2\n",
        "\n",
        "What is the difference between a key and a value in a dictionary?\n",
        "\n",
        "In a dictionary, keys are individual elements whereas values can be lists, or lists within a list. Values can be any type of object. Keys have to be immutable objects \n",
        "<br />"
      ]
    },
    {
      "cell_type": "markdown",
      "metadata": {
        "id": "1HeJtA1nsJZ8"
      },
      "source": [
        "## Exercise 1.3\n",
        "\n",
        "Can a dictionary have duplicate keys? Can it have duplicate values?\n",
        "\n",
        "A dictionary cannot have duplicate keys but it can have duplicate values associated with one key e.g a key \"a\" can have values in a list [\"d\", \"d\"]\n",
        "\n",
        "<br />"
      ]
    },
    {
      "cell_type": "markdown",
      "metadata": {
        "id": "1NQ3j5SPsJZ9"
      },
      "source": [
        "## Exercise 1.4\n",
        "\n",
        "The [Palmer penguins data set](https://towardsdatascience.com/penguins-dataset-overview-iris-alternative-9453bb8c8d95) is a nice data set with which to practice various data science skills. For this exercise, we will use as subset of it, which you can download here: [https://s3.amazonaws.com/bebi103.caltech.edu/data/penguins_subset.csv](https://s3.amazonaws.com/bebi103.caltech.edu/data/penguins_subset.csv). The data set consists of measurements of three different species of penguins acquired at the [Palmer Station in Antarctica](https://en.wikipedia.org/wiki/Palmer_Station). The measurements were made between 2007 and 2009 by [Kristen Gorman](https://www.uaf.edu/cfos/people/faculty/detail/kristen-gorman.php).\n",
        "\n",
        "**a)** Load the data set into a Pandas `DataFrame` called `df`. You will need to use the `header=[0,1]` kwarg of `pd.read_csv()` to load the data set in properly."
      ]
    },
    {
      "cell_type": "code",
      "source": [
        "\n",
        "\n",
        "import numpy as np\n",
        "import pandas as pd\n",
        "df = pd.read_csv(\"penguins_subset.csv\", header = [0, 1], na_values=\"*\")\n",
        "print(df)"
      ],
      "metadata": {
        "id": "E68IOzUP9efs",
        "outputId": "02d0fa3f-54c5-4004-c716-00ab47399f5d",
        "colab": {
          "base_uri": "https://localhost:8080/"
        }
      },
      "execution_count": null,
      "outputs": [
        {
          "output_type": "stream",
          "name": "stdout",
          "text": [
            "          Gentoo                                                     Adelie  \\\n",
            "   bill_depth_mm bill_length_mm flipper_length_mm body_mass_g bill_depth_mm   \n",
            "0           16.3           48.4             220.0      5400.0          18.5   \n",
            "1           15.8           46.3             215.0      5050.0          16.9   \n",
            "2           14.2           47.5             209.0      4600.0          19.5   \n",
            "3           15.7           48.7             208.0      5350.0          18.3   \n",
            "4           14.1           48.7             210.0      4450.0          18.0   \n",
            "..           ...            ...               ...         ...           ...   \n",
            "63          14.6           48.4             213.0      5850.0          18.6   \n",
            "64          14.3           46.8             215.0      4850.0          18.9   \n",
            "65          17.0           55.9             228.0      5600.0          17.9   \n",
            "66          15.7           44.5             217.0      4875.0          18.9   \n",
            "67          14.6           45.8             210.0      4200.0          15.9   \n",
            "\n",
            "                                                    Chinstrap                 \\\n",
            "   bill_length_mm flipper_length_mm body_mass_g bill_depth_mm bill_length_mm   \n",
            "0            36.8             193.0      3500.0          18.3           47.6   \n",
            "1            37.0             185.0      3000.0          16.7           42.5   \n",
            "2            42.0             200.0      4050.0          16.6           40.9   \n",
            "3            42.7             196.0      4075.0          20.0           52.8   \n",
            "4            35.7             202.0      3550.0          18.7           45.4   \n",
            "..            ...               ...         ...           ...            ...   \n",
            "63           41.1             189.0      3325.0          18.8           51.0   \n",
            "64           40.1             188.0      4300.0          19.0           51.4   \n",
            "65           40.5             187.0      3200.0          18.4           50.5   \n",
            "66           45.8             197.0      4150.0          18.2           46.1   \n",
            "67           35.2             186.0      3050.0          18.9           46.0   \n",
            "\n",
            "                                  \n",
            "   flipper_length_mm body_mass_g  \n",
            "0              195.0      3850.0  \n",
            "1              187.0      3350.0  \n",
            "2              187.0      3200.0  \n",
            "3              205.0      4550.0  \n",
            "4              188.0      3525.0  \n",
            "..               ...         ...  \n",
            "63             203.0      4100.0  \n",
            "64             201.0      3950.0  \n",
            "65             200.0      3400.0  \n",
            "66             178.0      3250.0  \n",
            "67             195.0      4150.0  \n",
            "\n",
            "[68 rows x 12 columns]\n"
          ]
        }
      ]
    },
    {
      "cell_type": "markdown",
      "metadata": {
        "id": "aEALsH6zsJZ-"
      },
      "source": [
        "**b)** Take a look at `df`. Is it tidy? Why or why not?\n",
        "\n",
        "I think this dataset is not tidy because it contains measurements for each penguin in a row with the columns representing different measurements for each individual penguin but the columns are also grouped by species type. "
      ]
    },
    {
      "cell_type": "markdown",
      "metadata": {
        "id": "CbPcdDrUsJZ-"
      },
      "source": [
        "**c)** Perform the following operations to make a new `DataFrame` from the original one you loaded in exercise 1 to generate a new `DataFrame`. You do not need to worry about what these operations do (that is the topic of next week, just do them to answer this question: Is the resulting data frame `df_tidy` tidy? Why or why not?\n",
        "\n",
        "df_tidy is in tidy format because now there is an additional column for penguin species type and the rows represent different penguin measurements for body parts presented in the columns. \n",
        "\n",
        "```python\n",
        "df_tidy = df.stack(\n",
        "    level=0\n",
        ").sort_index(\n",
        "    level=1\n",
        ").reset_index(\n",
        "    level=1\n",
        ").rename(\n",
        "    columns={\"level_1\": \"species\"}\n",
        ")\n",
        "```"
      ]
    },
    {
      "cell_type": "code",
      "source": [
        "df_tidy = df.stack(\n",
        "    level=0\n",
        ").sort_index(\n",
        "    level=1\n",
        ").reset_index(\n",
        "    level=1\n",
        ").rename(\n",
        "    columns={\"level_1\": \"species\"}\n",
        ")\n",
        "\n",
        "print(df_tidy)"
      ],
      "metadata": {
        "id": "uLe_J4Y1B1wB",
        "outputId": "0acd00a5-b9fd-4942-cf48-ffd9efa54666",
        "colab": {
          "base_uri": "https://localhost:8080/"
        }
      },
      "execution_count": null,
      "outputs": [
        {
          "output_type": "stream",
          "name": "stdout",
          "text": [
            "   species  bill_depth_mm  bill_length_mm  body_mass_g  flipper_length_mm\n",
            "0   Adelie           18.5            36.8       3500.0              193.0\n",
            "1   Adelie           16.9            37.0       3000.0              185.0\n",
            "2   Adelie           19.5            42.0       4050.0              200.0\n",
            "3   Adelie           18.3            42.7       4075.0              196.0\n",
            "4   Adelie           18.0            35.7       3550.0              202.0\n",
            "..     ...            ...             ...          ...                ...\n",
            "63  Gentoo           14.6            48.4       5850.0              213.0\n",
            "64  Gentoo           14.3            46.8       4850.0              215.0\n",
            "65  Gentoo           17.0            55.9       5600.0              228.0\n",
            "66  Gentoo           15.7            44.5       4875.0              217.0\n",
            "67  Gentoo           14.6            45.8       4200.0              210.0\n",
            "\n",
            "[204 rows x 5 columns]\n"
          ]
        }
      ]
    },
    {
      "cell_type": "markdown",
      "metadata": {
        "id": "eD5hYVjEsJaA"
      },
      "source": [
        "**d)** Using `df_tidy`, slice out all of the bill lengths for *Gentoo* penguins. "
      ]
    },
    {
      "cell_type": "code",
      "source": [
        "grouped_df = df_tidy.groupby(\"bill_length_mm\")\n",
        "df['species'] == 'Gentoo'\n",
        "print(grouped_df)\n"
      ],
      "metadata": {
        "id": "X7iGcPl0CjLZ",
        "outputId": "2d4aa0ff-f0a4-45c5-c1a1-ddb452e2de66",
        "colab": {
          "base_uri": "https://localhost:8080/"
        }
      },
      "execution_count": null,
      "outputs": [
        {
          "output_type": "stream",
          "name": "stdout",
          "text": [
            "<pandas.core.groupby.generic.DataFrameGroupBy object at 0x7f1a34ac0ed0>\n"
          ]
        }
      ]
    },
    {
      "cell_type": "markdown",
      "metadata": {
        "id": "gi37np2DsJaB"
      },
      "source": [
        "**e)** Make a new data frame containing the mean measured bill depth, bill length, body mass in kg, and flipper length for each species. You can use millimeters for all length measurements."
      ]
    },
    {
      "cell_type": "code",
      "source": [
        "from numpy.lib.function_base import average\n",
        "df.loc[df_tidy[\"species\"] == 'Gentoo', average(\"bill_depth_mm\")]"
      ],
      "metadata": {
        "id": "7LuprqpUINIl"
      },
      "execution_count": null,
      "outputs": []
    },
    {
      "cell_type": "markdown",
      "metadata": {
        "id": "iHA8ebljsJaB"
      },
      "source": [
        "**f)** Make a scatter plot of bill length versus flipper length with the glyphs colored by species.\n",
        "\n",
        "<br/>"
      ]
    },
    {
      "cell_type": "code",
      "source": [
        "import numpy as np\n",
        "import scipy.special\n",
        "import pandas as pd\n",
        "\n",
        "# Our main plotting package (must have explicit import of submodules)\n",
        "import bokeh.io\n",
        "import bokeh.plotting\n",
        "\n",
        "# Enable viewing Bokeh plots in the notebook\n",
        "bokeh.io.output_notebook()\n",
        "\n",
        "p = bokeh.plotting.figure(\n",
        "    width=400,\n",
        "    height=300,\n",
        "    x_axis_label=\"flipper length\",\n",
        "    y_axis_label=\"bill length\",\n",
        ")"
      ],
      "metadata": {
        "id": "DRc5w1GtIfHB"
      },
      "execution_count": null,
      "outputs": []
    },
    {
      "cell_type": "code",
      "source": [],
      "metadata": {
        "id": "GBRktC1iEYnM"
      },
      "execution_count": null,
      "outputs": []
    },
    {
      "cell_type": "markdown",
      "metadata": {
        "id": "OV9fVfV5sJaC"
      },
      "source": [
        "## Exercise 1.5\n",
        "\n",
        "Write down any questions or points of confusion that you have.\n",
        "\n",
        "I had some problems setting up my working space in jupyterlab and ended up having to work in google collab which did not give me enough time to work on the last question as well as I should have. "
      ]
    }
  ],
  "metadata": {
    "kernelspec": {
      "display_name": "Python 3 (ipykernel)",
      "language": "python",
      "name": "python3"
    },
    "language_info": {
      "codemirror_mode": {
        "name": "ipython",
        "version": 3
      },
      "file_extension": ".py",
      "mimetype": "text/x-python",
      "name": "python",
      "nbconvert_exporter": "python",
      "pygments_lexer": "ipython3",
      "version": "3.9.13"
    },
    "colab": {
      "provenance": []
    }
  },
  "nbformat": 4,
  "nbformat_minor": 0
}